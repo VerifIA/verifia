{
 "cells": [
  {
   "cell_type": "markdown",
   "metadata": {},
   "source": [
    "<p align=\"center\">\n",
    "  <img src=\"https://www.verifia.ca/assets/logo.png\" width=\"160px\" alt=\"VerifIA Logo\"/><br>\n",
    "  <strong>© 2025 VerifIA. All rights reserved.</strong>\n",
    "</p>"
   ]
  },
  {
   "cell_type": "markdown",
   "metadata": {},
   "source": [
    "### VerifIA - Model Verification: Compressive Strength Regression with TensorFlow\n",
    "In this notebook we tackle a regression problem using a compressive strength dataset. We build and tune a TensorFlow model with hyperparameter optimization (using scikit-opt), and then we generate a domain configuration (using both predefined domain and AI-powered generation) to verify that our trained model complies with expected domain rules."
   ]
  },
  {
   "cell_type": "code",
   "execution_count": 17,
   "metadata": {},
   "outputs": [
    {
     "name": "stdout",
     "output_type": "stream",
     "text": [
      "Requirement already satisfied: requests in c:\\users\\houssem\\downloads\\verifia\\.venv\\lib\\site-packages (2.32.3)\n",
      "Requirement already satisfied: charset-normalizer<4,>=2 in c:\\users\\houssem\\downloads\\verifia\\.venv\\lib\\site-packages (from requests) (3.4.2)\n",
      "Requirement already satisfied: idna<4,>=2.5 in c:\\users\\houssem\\downloads\\verifia\\.venv\\lib\\site-packages (from requests) (3.10)\n",
      "Requirement already satisfied: urllib3<3,>=1.21.1 in c:\\users\\houssem\\downloads\\verifia\\.venv\\lib\\site-packages (from requests) (2.4.0)\n",
      "Requirement already satisfied: certifi>=2017.4.17 in c:\\users\\houssem\\downloads\\verifia\\.venv\\lib\\site-packages (from requests) (2025.4.26)\n",
      "Requirement already satisfied: scikit-optimize in c:\\users\\houssem\\downloads\\verifia\\.venv\\lib\\site-packages (0.10.2)\n",
      "Requirement already satisfied: joblib>=0.11 in c:\\users\\houssem\\downloads\\verifia\\.venv\\lib\\site-packages (from scikit-optimize) (1.5.0)\n",
      "Requirement already satisfied: pyaml>=16.9 in c:\\users\\houssem\\downloads\\verifia\\.venv\\lib\\site-packages (from scikit-optimize) (25.1.0)\n",
      "Requirement already satisfied: numpy>=1.20.3 in c:\\users\\houssem\\downloads\\verifia\\.venv\\lib\\site-packages (from scikit-optimize) (1.26.4)\n",
      "Requirement already satisfied: scipy>=1.1.0 in c:\\users\\houssem\\downloads\\verifia\\.venv\\lib\\site-packages (from scikit-optimize) (1.11.4)\n",
      "Requirement already satisfied: scikit-learn>=1.0.0 in c:\\users\\houssem\\downloads\\verifia\\.venv\\lib\\site-packages (from scikit-optimize) (1.6.1)\n",
      "Requirement already satisfied: packaging>=21.3 in c:\\users\\houssem\\downloads\\verifia\\.venv\\lib\\site-packages (from scikit-optimize) (24.2)\n",
      "Requirement already satisfied: PyYAML in c:\\users\\houssem\\downloads\\verifia\\.venv\\lib\\site-packages (from pyaml>=16.9->scikit-optimize) (6.0.2)\n",
      "Requirement already satisfied: threadpoolctl>=3.1.0 in c:\\users\\houssem\\downloads\\verifia\\.venv\\lib\\site-packages (from scikit-learn>=1.0.0->scikit-optimize) (3.6.0)\n",
      "Processing c:\\users\\houssem\\downloads\\verifia\\dist\\verifia-0.1.0-py3-none-any.whl (from verifia==0.1.0)\n",
      "Requirement already satisfied: cloudpickle>=1.1.1 in c:\\users\\houssem\\downloads\\verifia\\.venv\\lib\\site-packages (from verifia==0.1.0->verifia==0.1.0) (3.1.1)\n",
      "Requirement already satisfied: numpy<2,>=1.26.0 in c:\\users\\houssem\\downloads\\verifia\\.venv\\lib\\site-packages (from verifia==0.1.0->verifia==0.1.0) (1.26.4)\n",
      "Requirement already satisfied: scikit-learn>=1.0 in c:\\users\\houssem\\downloads\\verifia\\.venv\\lib\\site-packages (from verifia==0.1.0->verifia==0.1.0) (1.6.1)\n",
      "Requirement already satisfied: scipy<1.12.0,>=1.7.3 in c:\\users\\houssem\\downloads\\verifia\\.venv\\lib\\site-packages (from verifia==0.1.0->verifia==0.1.0) (1.11.4)\n",
      "Requirement already satisfied: pandas>=2.0 in c:\\users\\houssem\\downloads\\verifia\\.venv\\lib\\site-packages (from verifia==0.1.0->verifia==0.1.0) (2.2.3)\n",
      "Requirement already satisfied: setuptools in c:\\users\\houssem\\downloads\\verifia\\.venv\\lib\\site-packages (from verifia==0.1.0->verifia==0.1.0) (65.5.0)\n",
      "Requirement already satisfied: pyyaml in c:\\users\\houssem\\downloads\\verifia\\.venv\\lib\\site-packages (from verifia==0.1.0->verifia==0.1.0) (6.0.2)\n",
      "Requirement already satisfied: matplotlib in c:\\users\\houssem\\downloads\\verifia\\.venv\\lib\\site-packages (from verifia==0.1.0->verifia==0.1.0) (3.10.3)\n",
      "Requirement already satisfied: plotly in c:\\users\\houssem\\downloads\\verifia\\.venv\\lib\\site-packages (from verifia==0.1.0->verifia==0.1.0) (6.1.0)\n",
      "Requirement already satisfied: ipython in c:\\users\\houssem\\downloads\\verifia\\.venv\\lib\\site-packages (from verifia==0.1.0->verifia==0.1.0) (8.36.0)\n",
      "Requirement already satisfied: ipywidgets in c:\\users\\houssem\\downloads\\verifia\\.venv\\lib\\site-packages (from verifia==0.1.0->verifia==0.1.0) (8.1.7)\n",
      "Requirement already satisfied: tqdm in c:\\users\\houssem\\downloads\\verifia\\.venv\\lib\\site-packages (from verifia==0.1.0->verifia==0.1.0) (4.67.1)\n",
      "Requirement already satisfied: python-fasthtml in c:\\users\\houssem\\downloads\\verifia\\.venv\\lib\\site-packages (from verifia==0.1.0->verifia==0.1.0) (0.12.17)\n",
      "Requirement already satisfied: tabulate in c:\\users\\houssem\\downloads\\verifia\\.venv\\lib\\site-packages (from verifia==0.1.0->verifia==0.1.0) (0.9.0)\n",
      "Requirement already satisfied: pypdf in c:\\users\\houssem\\downloads\\verifia\\.venv\\lib\\site-packages (from verifia==0.1.0->verifia==0.1.0) (5.5.0)\n",
      "Requirement already satisfied: scikit-optimize in c:\\users\\houssem\\downloads\\verifia\\.venv\\lib\\site-packages (from verifia==0.1.0->verifia==0.1.0) (0.10.2)\n",
      "Requirement already satisfied: gradio in c:\\users\\houssem\\downloads\\verifia\\.venv\\lib\\site-packages (from verifia==0.1.0->verifia==0.1.0) (5.29.1)\n",
      "Requirement already satisfied: tensorflow in c:\\users\\houssem\\downloads\\verifia\\.venv\\lib\\site-packages (from verifia==0.1.0->verifia==0.1.0) (2.19.0)\n",
      "Requirement already satisfied: python-dotenv in c:\\users\\houssem\\downloads\\verifia\\.venv\\lib\\site-packages (from verifia==0.1.0->verifia==0.1.0) (1.1.0)\n",
      "Requirement already satisfied: chromadb in c:\\users\\houssem\\downloads\\verifia\\.venv\\lib\\site-packages (from verifia==0.1.0->verifia==0.1.0) (1.0.9)\n",
      "Requirement already satisfied: langgraph in c:\\users\\houssem\\downloads\\verifia\\.venv\\lib\\site-packages (from verifia==0.1.0->verifia==0.1.0) (0.4.5)\n",
      "Requirement already satisfied: langchain in c:\\users\\houssem\\downloads\\verifia\\.venv\\lib\\site-packages (from verifia==0.1.0->verifia==0.1.0) (0.3.25)\n",
      "Requirement already satisfied: langchain_experimental in c:\\users\\houssem\\downloads\\verifia\\.venv\\lib\\site-packages (from verifia==0.1.0->verifia==0.1.0) (0.3.4)\n",
      "Requirement already satisfied: langchain_community in c:\\users\\houssem\\downloads\\verifia\\.venv\\lib\\site-packages (from verifia==0.1.0->verifia==0.1.0) (0.3.24)\n",
      "Requirement already satisfied: langchain_openai in c:\\users\\houssem\\downloads\\verifia\\.venv\\lib\\site-packages (from verifia==0.1.0->verifia==0.1.0) (0.3.17)\n",
      "Requirement already satisfied: python-dateutil>=2.8.2 in c:\\users\\houssem\\downloads\\verifia\\.venv\\lib\\site-packages (from pandas>=2.0->verifia==0.1.0->verifia==0.1.0) (2.9.0.post0)\n",
      "Requirement already satisfied: pytz>=2020.1 in c:\\users\\houssem\\downloads\\verifia\\.venv\\lib\\site-packages (from pandas>=2.0->verifia==0.1.0->verifia==0.1.0) (2025.2)\n",
      "Requirement already satisfied: tzdata>=2022.7 in c:\\users\\houssem\\downloads\\verifia\\.venv\\lib\\site-packages (from pandas>=2.0->verifia==0.1.0->verifia==0.1.0) (2025.2)\n",
      "Requirement already satisfied: six>=1.5 in c:\\users\\houssem\\downloads\\verifia\\.venv\\lib\\site-packages (from python-dateutil>=2.8.2->pandas>=2.0->verifia==0.1.0->verifia==0.1.0) (1.17.0)\n",
      "Requirement already satisfied: joblib>=1.2.0 in c:\\users\\houssem\\downloads\\verifia\\.venv\\lib\\site-packages (from scikit-learn>=1.0->verifia==0.1.0->verifia==0.1.0) (1.5.0)\n",
      "Requirement already satisfied: threadpoolctl>=3.1.0 in c:\\users\\houssem\\downloads\\verifia\\.venv\\lib\\site-packages (from scikit-learn>=1.0->verifia==0.1.0->verifia==0.1.0) (3.6.0)\n",
      "Requirement already satisfied: build>=1.0.3 in c:\\users\\houssem\\downloads\\verifia\\.venv\\lib\\site-packages (from chromadb->verifia==0.1.0->verifia==0.1.0) (1.2.2.post1)\n",
      "Requirement already satisfied: pydantic>=1.9 in c:\\users\\houssem\\downloads\\verifia\\.venv\\lib\\site-packages (from chromadb->verifia==0.1.0->verifia==0.1.0) (2.11.4)\n",
      "Requirement already satisfied: fastapi==0.115.9 in c:\\users\\houssem\\downloads\\verifia\\.venv\\lib\\site-packages (from chromadb->verifia==0.1.0->verifia==0.1.0) (0.115.9)\n",
      "Requirement already satisfied: uvicorn>=0.18.3 in c:\\users\\houssem\\downloads\\verifia\\.venv\\lib\\site-packages (from uvicorn[standard]>=0.18.3->chromadb->verifia==0.1.0->verifia==0.1.0) (0.34.2)\n",
      "Requirement already satisfied: posthog>=2.4.0 in c:\\users\\houssem\\downloads\\verifia\\.venv\\lib\\site-packages (from chromadb->verifia==0.1.0->verifia==0.1.0) (4.0.1)\n",
      "Requirement already satisfied: typing-extensions>=4.5.0 in c:\\users\\houssem\\downloads\\verifia\\.venv\\lib\\site-packages (from chromadb->verifia==0.1.0->verifia==0.1.0) (4.13.2)\n",
      "Requirement already satisfied: onnxruntime>=1.14.1 in c:\\users\\houssem\\downloads\\verifia\\.venv\\lib\\site-packages (from chromadb->verifia==0.1.0->verifia==0.1.0) (1.22.0)\n",
      "Requirement already satisfied: opentelemetry-api>=1.2.0 in c:\\users\\houssem\\downloads\\verifia\\.venv\\lib\\site-packages (from chromadb->verifia==0.1.0->verifia==0.1.0) (1.33.1)\n",
      "Requirement already satisfied: opentelemetry-exporter-otlp-proto-grpc>=1.2.0 in c:\\users\\houssem\\downloads\\verifia\\.venv\\lib\\site-packages (from chromadb->verifia==0.1.0->verifia==0.1.0) (1.33.1)\n",
      "Requirement already satisfied: opentelemetry-instrumentation-fastapi>=0.41b0 in c:\\users\\houssem\\downloads\\verifia\\.venv\\lib\\site-packages (from chromadb->verifia==0.1.0->verifia==0.1.0) (0.54b1)\n",
      "Requirement already satisfied: opentelemetry-sdk>=1.2.0 in c:\\users\\houssem\\downloads\\verifia\\.venv\\lib\\site-packages (from chromadb->verifia==0.1.0->verifia==0.1.0) (1.33.1)\n",
      "Requirement already satisfied: tokenizers>=0.13.2 in c:\\users\\houssem\\downloads\\verifia\\.venv\\lib\\site-packages (from chromadb->verifia==0.1.0->verifia==0.1.0) (0.21.1)\n",
      "Requirement already satisfied: pypika>=0.48.9 in c:\\users\\houssem\\downloads\\verifia\\.venv\\lib\\site-packages (from chromadb->verifia==0.1.0->verifia==0.1.0) (0.48.9)\n",
      "Requirement already satisfied: overrides>=7.3.1 in c:\\users\\houssem\\downloads\\verifia\\.venv\\lib\\site-packages (from chromadb->verifia==0.1.0->verifia==0.1.0) (7.7.0)\n",
      "Requirement already satisfied: importlib-resources in c:\\users\\houssem\\downloads\\verifia\\.venv\\lib\\site-packages (from chromadb->verifia==0.1.0->verifia==0.1.0) (6.5.2)\n",
      "Requirement already satisfied: grpcio>=1.58.0 in c:\\users\\houssem\\downloads\\verifia\\.venv\\lib\\site-packages (from chromadb->verifia==0.1.0->verifia==0.1.0) (1.71.0)\n",
      "Requirement already satisfied: bcrypt>=4.0.1 in c:\\users\\houssem\\downloads\\verifia\\.venv\\lib\\site-packages (from chromadb->verifia==0.1.0->verifia==0.1.0) (4.3.0)\n",
      "Requirement already satisfied: typer>=0.9.0 in c:\\users\\houssem\\downloads\\verifia\\.venv\\lib\\site-packages (from chromadb->verifia==0.1.0->verifia==0.1.0) (0.15.4)\n",
      "Requirement already satisfied: kubernetes>=28.1.0 in c:\\users\\houssem\\downloads\\verifia\\.venv\\lib\\site-packages (from chromadb->verifia==0.1.0->verifia==0.1.0) (32.0.1)\n",
      "Requirement already satisfied: tenacity>=8.2.3 in c:\\users\\houssem\\downloads\\verifia\\.venv\\lib\\site-packages (from chromadb->verifia==0.1.0->verifia==0.1.0) (9.1.2)\n",
      "Requirement already satisfied: mmh3>=4.0.1 in c:\\users\\houssem\\downloads\\verifia\\.venv\\lib\\site-packages (from chromadb->verifia==0.1.0->verifia==0.1.0) (5.1.0)\n",
      "Requirement already satisfied: orjson>=3.9.12 in c:\\users\\houssem\\downloads\\verifia\\.venv\\lib\\site-packages (from chromadb->verifia==0.1.0->verifia==0.1.0) (3.10.18)\n",
      "Requirement already satisfied: httpx>=0.27.0 in c:\\users\\houssem\\downloads\\verifia\\.venv\\lib\\site-packages (from chromadb->verifia==0.1.0->verifia==0.1.0) (0.28.1)\n",
      "Requirement already satisfied: rich>=10.11.0 in c:\\users\\houssem\\downloads\\verifia\\.venv\\lib\\site-packages (from chromadb->verifia==0.1.0->verifia==0.1.0) (14.0.0)\n",
      "Requirement already satisfied: jsonschema>=4.19.0 in c:\\users\\houssem\\downloads\\verifia\\.venv\\lib\\site-packages (from chromadb->verifia==0.1.0->verifia==0.1.0) (4.23.0)\n",
      "Requirement already satisfied: starlette<0.46.0,>=0.40.0 in c:\\users\\houssem\\downloads\\verifia\\.venv\\lib\\site-packages (from fastapi==0.115.9->chromadb->verifia==0.1.0->verifia==0.1.0) (0.45.3)\n",
      "Requirement already satisfied: annotated-types>=0.6.0 in c:\\users\\houssem\\downloads\\verifia\\.venv\\lib\\site-packages (from pydantic>=1.9->chromadb->verifia==0.1.0->verifia==0.1.0) (0.7.0)\n",
      "Requirement already satisfied: pydantic-core==2.33.2 in c:\\users\\houssem\\downloads\\verifia\\.venv\\lib\\site-packages (from pydantic>=1.9->chromadb->verifia==0.1.0->verifia==0.1.0) (2.33.2)\n",
      "Requirement already satisfied: typing-inspection>=0.4.0 in c:\\users\\houssem\\downloads\\verifia\\.venv\\lib\\site-packages (from pydantic>=1.9->chromadb->verifia==0.1.0->verifia==0.1.0) (0.4.0)\n",
      "Requirement already satisfied: anyio<5,>=3.6.2 in c:\\users\\houssem\\downloads\\verifia\\.venv\\lib\\site-packages (from starlette<0.46.0,>=0.40.0->fastapi==0.115.9->chromadb->verifia==0.1.0->verifia==0.1.0) (4.9.0)\n",
      "Requirement already satisfied: exceptiongroup>=1.0.2 in c:\\users\\houssem\\downloads\\verifia\\.venv\\lib\\site-packages (from anyio<5,>=3.6.2->starlette<0.46.0,>=0.40.0->fastapi==0.115.9->chromadb->verifia==0.1.0->verifia==0.1.0) (1.3.0)\n",
      "Requirement already satisfied: idna>=2.8 in c:\\users\\houssem\\downloads\\verifia\\.venv\\lib\\site-packages (from anyio<5,>=3.6.2->starlette<0.46.0,>=0.40.0->fastapi==0.115.9->chromadb->verifia==0.1.0->verifia==0.1.0) (3.10)\n",
      "Requirement already satisfied: sniffio>=1.1 in c:\\users\\houssem\\downloads\\verifia\\.venv\\lib\\site-packages (from anyio<5,>=3.6.2->starlette<0.46.0,>=0.40.0->fastapi==0.115.9->chromadb->verifia==0.1.0->verifia==0.1.0) (1.3.1)\n",
      "Requirement already satisfied: packaging>=19.1 in c:\\users\\houssem\\downloads\\verifia\\.venv\\lib\\site-packages (from build>=1.0.3->chromadb->verifia==0.1.0->verifia==0.1.0) (24.2)\n",
      "Requirement already satisfied: pyproject_hooks in c:\\users\\houssem\\downloads\\verifia\\.venv\\lib\\site-packages (from build>=1.0.3->chromadb->verifia==0.1.0->verifia==0.1.0) (1.2.0)\n",
      "Requirement already satisfied: colorama in c:\\users\\houssem\\downloads\\verifia\\.venv\\lib\\site-packages (from build>=1.0.3->chromadb->verifia==0.1.0->verifia==0.1.0) (0.4.6)\n",
      "Requirement already satisfied: tomli>=1.1.0 in c:\\users\\houssem\\downloads\\verifia\\.venv\\lib\\site-packages (from build>=1.0.3->chromadb->verifia==0.1.0->verifia==0.1.0) (2.2.1)\n",
      "Requirement already satisfied: certifi in c:\\users\\houssem\\downloads\\verifia\\.venv\\lib\\site-packages (from httpx>=0.27.0->chromadb->verifia==0.1.0->verifia==0.1.0) (2025.4.26)\n",
      "Requirement already satisfied: httpcore==1.* in c:\\users\\houssem\\downloads\\verifia\\.venv\\lib\\site-packages (from httpx>=0.27.0->chromadb->verifia==0.1.0->verifia==0.1.0) (1.0.9)\n",
      "Requirement already satisfied: h11>=0.16 in c:\\users\\houssem\\downloads\\verifia\\.venv\\lib\\site-packages (from httpcore==1.*->httpx>=0.27.0->chromadb->verifia==0.1.0->verifia==0.1.0) (0.16.0)\n",
      "Requirement already satisfied: attrs>=22.2.0 in c:\\users\\houssem\\downloads\\verifia\\.venv\\lib\\site-packages (from jsonschema>=4.19.0->chromadb->verifia==0.1.0->verifia==0.1.0) (25.3.0)\n",
      "Requirement already satisfied: jsonschema-specifications>=2023.03.6 in c:\\users\\houssem\\downloads\\verifia\\.venv\\lib\\site-packages (from jsonschema>=4.19.0->chromadb->verifia==0.1.0->verifia==0.1.0) (2025.4.1)\n",
      "Requirement already satisfied: referencing>=0.28.4 in c:\\users\\houssem\\downloads\\verifia\\.venv\\lib\\site-packages (from jsonschema>=4.19.0->chromadb->verifia==0.1.0->verifia==0.1.0) (0.36.2)\n",
      "Requirement already satisfied: rpds-py>=0.7.1 in c:\\users\\houssem\\downloads\\verifia\\.venv\\lib\\site-packages (from jsonschema>=4.19.0->chromadb->verifia==0.1.0->verifia==0.1.0) (0.25.0)\n",
      "Requirement already satisfied: google-auth>=1.0.1 in c:\\users\\houssem\\downloads\\verifia\\.venv\\lib\\site-packages (from kubernetes>=28.1.0->chromadb->verifia==0.1.0->verifia==0.1.0) (2.40.1)\n",
      "Requirement already satisfied: websocket-client!=0.40.0,!=0.41.*,!=0.42.*,>=0.32.0 in c:\\users\\houssem\\downloads\\verifia\\.venv\\lib\\site-packages (from kubernetes>=28.1.0->chromadb->verifia==0.1.0->verifia==0.1.0) (1.8.0)\n",
      "Requirement already satisfied: requests in c:\\users\\houssem\\downloads\\verifia\\.venv\\lib\\site-packages (from kubernetes>=28.1.0->chromadb->verifia==0.1.0->verifia==0.1.0) (2.32.3)\n",
      "Requirement already satisfied: requests-oauthlib in c:\\users\\houssem\\downloads\\verifia\\.venv\\lib\\site-packages (from kubernetes>=28.1.0->chromadb->verifia==0.1.0->verifia==0.1.0) (2.0.0)\n",
      "Requirement already satisfied: oauthlib>=3.2.2 in c:\\users\\houssem\\downloads\\verifia\\.venv\\lib\\site-packages (from kubernetes>=28.1.0->chromadb->verifia==0.1.0->verifia==0.1.0) (3.2.2)\n",
      "Requirement already satisfied: urllib3>=1.24.2 in c:\\users\\houssem\\downloads\\verifia\\.venv\\lib\\site-packages (from kubernetes>=28.1.0->chromadb->verifia==0.1.0->verifia==0.1.0) (2.4.0)\n",
      "Requirement already satisfied: durationpy>=0.7 in c:\\users\\houssem\\downloads\\verifia\\.venv\\lib\\site-packages (from kubernetes>=28.1.0->chromadb->verifia==0.1.0->verifia==0.1.0) (0.10)\n",
      "Requirement already satisfied: cachetools<6.0,>=2.0.0 in c:\\users\\houssem\\downloads\\verifia\\.venv\\lib\\site-packages (from google-auth>=1.0.1->kubernetes>=28.1.0->chromadb->verifia==0.1.0->verifia==0.1.0) (5.5.2)\n",
      "Requirement already satisfied: pyasn1-modules>=0.2.1 in c:\\users\\houssem\\downloads\\verifia\\.venv\\lib\\site-packages (from google-auth>=1.0.1->kubernetes>=28.1.0->chromadb->verifia==0.1.0->verifia==0.1.0) (0.4.2)\n",
      "Requirement already satisfied: rsa<5,>=3.1.4 in c:\\users\\houssem\\downloads\\verifia\\.venv\\lib\\site-packages (from google-auth>=1.0.1->kubernetes>=28.1.0->chromadb->verifia==0.1.0->verifia==0.1.0) (4.9.1)\n",
      "Requirement already satisfied: pyasn1>=0.1.3 in c:\\users\\houssem\\downloads\\verifia\\.venv\\lib\\site-packages (from rsa<5,>=3.1.4->google-auth>=1.0.1->kubernetes>=28.1.0->chromadb->verifia==0.1.0->verifia==0.1.0) (0.6.1)\n",
      "Requirement already satisfied: coloredlogs in c:\\users\\houssem\\downloads\\verifia\\.venv\\lib\\site-packages (from onnxruntime>=1.14.1->chromadb->verifia==0.1.0->verifia==0.1.0) (15.0.1)\n",
      "Requirement already satisfied: flatbuffers in c:\\users\\houssem\\downloads\\verifia\\.venv\\lib\\site-packages (from onnxruntime>=1.14.1->chromadb->verifia==0.1.0->verifia==0.1.0) (25.2.10)\n",
      "Requirement already satisfied: protobuf in c:\\users\\houssem\\downloads\\verifia\\.venv\\lib\\site-packages (from onnxruntime>=1.14.1->chromadb->verifia==0.1.0->verifia==0.1.0) (5.29.4)\n",
      "Requirement already satisfied: sympy in c:\\users\\houssem\\downloads\\verifia\\.venv\\lib\\site-packages (from onnxruntime>=1.14.1->chromadb->verifia==0.1.0->verifia==0.1.0) (1.14.0)\n",
      "Requirement already satisfied: deprecated>=1.2.6 in c:\\users\\houssem\\downloads\\verifia\\.venv\\lib\\site-packages (from opentelemetry-api>=1.2.0->chromadb->verifia==0.1.0->verifia==0.1.0) (1.2.18)\n",
      "Requirement already satisfied: importlib-metadata<8.7.0,>=6.0 in c:\\users\\houssem\\downloads\\verifia\\.venv\\lib\\site-packages (from opentelemetry-api>=1.2.0->chromadb->verifia==0.1.0->verifia==0.1.0) (8.6.1)\n",
      "Requirement already satisfied: zipp>=3.20 in c:\\users\\houssem\\downloads\\verifia\\.venv\\lib\\site-packages (from importlib-metadata<8.7.0,>=6.0->opentelemetry-api>=1.2.0->chromadb->verifia==0.1.0->verifia==0.1.0) (3.21.0)\n",
      "Requirement already satisfied: wrapt<2,>=1.10 in c:\\users\\houssem\\downloads\\verifia\\.venv\\lib\\site-packages (from deprecated>=1.2.6->opentelemetry-api>=1.2.0->chromadb->verifia==0.1.0->verifia==0.1.0) (1.17.2)\n",
      "Requirement already satisfied: googleapis-common-protos~=1.52 in c:\\users\\houssem\\downloads\\verifia\\.venv\\lib\\site-packages (from opentelemetry-exporter-otlp-proto-grpc>=1.2.0->chromadb->verifia==0.1.0->verifia==0.1.0) (1.70.0)\n",
      "Requirement already satisfied: opentelemetry-exporter-otlp-proto-common==1.33.1 in c:\\users\\houssem\\downloads\\verifia\\.venv\\lib\\site-packages (from opentelemetry-exporter-otlp-proto-grpc>=1.2.0->chromadb->verifia==0.1.0->verifia==0.1.0) (1.33.1)\n",
      "Requirement already satisfied: opentelemetry-proto==1.33.1 in c:\\users\\houssem\\downloads\\verifia\\.venv\\lib\\site-packages (from opentelemetry-exporter-otlp-proto-grpc>=1.2.0->chromadb->verifia==0.1.0->verifia==0.1.0) (1.33.1)\n",
      "Requirement already satisfied: opentelemetry-semantic-conventions==0.54b1 in c:\\users\\houssem\\downloads\\verifia\\.venv\\lib\\site-packages (from opentelemetry-sdk>=1.2.0->chromadb->verifia==0.1.0->verifia==0.1.0) (0.54b1)\n",
      "Requirement already satisfied: opentelemetry-instrumentation-asgi==0.54b1 in c:\\users\\houssem\\downloads\\verifia\\.venv\\lib\\site-packages (from opentelemetry-instrumentation-fastapi>=0.41b0->chromadb->verifia==0.1.0->verifia==0.1.0) (0.54b1)\n",
      "Requirement already satisfied: opentelemetry-instrumentation==0.54b1 in c:\\users\\houssem\\downloads\\verifia\\.venv\\lib\\site-packages (from opentelemetry-instrumentation-fastapi>=0.41b0->chromadb->verifia==0.1.0->verifia==0.1.0) (0.54b1)\n",
      "Requirement already satisfied: opentelemetry-util-http==0.54b1 in c:\\users\\houssem\\downloads\\verifia\\.venv\\lib\\site-packages (from opentelemetry-instrumentation-fastapi>=0.41b0->chromadb->verifia==0.1.0->verifia==0.1.0) (0.54b1)\n",
      "Requirement already satisfied: asgiref~=3.0 in c:\\users\\houssem\\downloads\\verifia\\.venv\\lib\\site-packages (from opentelemetry-instrumentation-asgi==0.54b1->opentelemetry-instrumentation-fastapi>=0.41b0->chromadb->verifia==0.1.0->verifia==0.1.0) (3.8.1)\n",
      "Requirement already satisfied: backoff>=1.10.0 in c:\\users\\houssem\\downloads\\verifia\\.venv\\lib\\site-packages (from posthog>=2.4.0->chromadb->verifia==0.1.0->verifia==0.1.0) (2.2.1)\n",
      "Requirement already satisfied: distro>=1.5.0 in c:\\users\\houssem\\downloads\\verifia\\.venv\\lib\\site-packages (from posthog>=2.4.0->chromadb->verifia==0.1.0->verifia==0.1.0) (1.9.0)\n",
      "Requirement already satisfied: charset-normalizer<4,>=2 in c:\\users\\houssem\\downloads\\verifia\\.venv\\lib\\site-packages (from requests->kubernetes>=28.1.0->chromadb->verifia==0.1.0->verifia==0.1.0) (3.4.2)\n",
      "Requirement already satisfied: markdown-it-py>=2.2.0 in c:\\users\\houssem\\downloads\\verifia\\.venv\\lib\\site-packages (from rich>=10.11.0->chromadb->verifia==0.1.0->verifia==0.1.0) (3.0.0)\n",
      "Requirement already satisfied: pygments<3.0.0,>=2.13.0 in c:\\users\\houssem\\downloads\\verifia\\.venv\\lib\\site-packages (from rich>=10.11.0->chromadb->verifia==0.1.0->verifia==0.1.0) (2.19.1)\n",
      "Requirement already satisfied: mdurl~=0.1 in c:\\users\\houssem\\downloads\\verifia\\.venv\\lib\\site-packages (from markdown-it-py>=2.2.0->rich>=10.11.0->chromadb->verifia==0.1.0->verifia==0.1.0) (0.1.2)\n",
      "Requirement already satisfied: huggingface-hub<1.0,>=0.16.4 in c:\\users\\houssem\\downloads\\verifia\\.venv\\lib\\site-packages (from tokenizers>=0.13.2->chromadb->verifia==0.1.0->verifia==0.1.0) (0.31.2)\n",
      "Requirement already satisfied: filelock in c:\\users\\houssem\\downloads\\verifia\\.venv\\lib\\site-packages (from huggingface-hub<1.0,>=0.16.4->tokenizers>=0.13.2->chromadb->verifia==0.1.0->verifia==0.1.0) (3.18.0)\n",
      "Requirement already satisfied: fsspec>=2023.5.0 in c:\\users\\houssem\\downloads\\verifia\\.venv\\lib\\site-packages (from huggingface-hub<1.0,>=0.16.4->tokenizers>=0.13.2->chromadb->verifia==0.1.0->verifia==0.1.0) (2025.3.2)\n",
      "Requirement already satisfied: click<8.2,>=8.0.0 in c:\\users\\houssem\\downloads\\verifia\\.venv\\lib\\site-packages (from typer>=0.9.0->chromadb->verifia==0.1.0->verifia==0.1.0) (8.1.8)\n",
      "Requirement already satisfied: shellingham>=1.3.0 in c:\\users\\houssem\\downloads\\verifia\\.venv\\lib\\site-packages (from typer>=0.9.0->chromadb->verifia==0.1.0->verifia==0.1.0) (1.5.4)\n",
      "Requirement already satisfied: httptools>=0.6.3 in c:\\users\\houssem\\downloads\\verifia\\.venv\\lib\\site-packages (from uvicorn[standard]>=0.18.3->chromadb->verifia==0.1.0->verifia==0.1.0) (0.6.4)\n",
      "Requirement already satisfied: watchfiles>=0.13 in c:\\users\\houssem\\downloads\\verifia\\.venv\\lib\\site-packages (from uvicorn[standard]>=0.18.3->chromadb->verifia==0.1.0->verifia==0.1.0) (1.0.5)\n",
      "Requirement already satisfied: websockets>=10.4 in c:\\users\\houssem\\downloads\\verifia\\.venv\\lib\\site-packages (from uvicorn[standard]>=0.18.3->chromadb->verifia==0.1.0->verifia==0.1.0) (15.0.1)\n",
      "Requirement already satisfied: humanfriendly>=9.1 in c:\\users\\houssem\\downloads\\verifia\\.venv\\lib\\site-packages (from coloredlogs->onnxruntime>=1.14.1->chromadb->verifia==0.1.0->verifia==0.1.0) (10.0)\n",
      "Requirement already satisfied: pyreadline3 in c:\\users\\houssem\\downloads\\verifia\\.venv\\lib\\site-packages (from humanfriendly>=9.1->coloredlogs->onnxruntime>=1.14.1->chromadb->verifia==0.1.0->verifia==0.1.0) (3.5.4)\n",
      "Requirement already satisfied: aiofiles<25.0,>=22.0 in c:\\users\\houssem\\downloads\\verifia\\.venv\\lib\\site-packages (from gradio->verifia==0.1.0->verifia==0.1.0) (24.1.0)\n",
      "Requirement already satisfied: ffmpy in c:\\users\\houssem\\downloads\\verifia\\.venv\\lib\\site-packages (from gradio->verifia==0.1.0->verifia==0.1.0) (0.5.0)\n",
      "Requirement already satisfied: gradio-client==1.10.1 in c:\\users\\houssem\\downloads\\verifia\\.venv\\lib\\site-packages (from gradio->verifia==0.1.0->verifia==0.1.0) (1.10.1)\n",
      "Requirement already satisfied: groovy~=0.1 in c:\\users\\houssem\\downloads\\verifia\\.venv\\lib\\site-packages (from gradio->verifia==0.1.0->verifia==0.1.0) (0.1.2)\n",
      "Requirement already satisfied: jinja2<4.0 in c:\\users\\houssem\\downloads\\verifia\\.venv\\lib\\site-packages (from gradio->verifia==0.1.0->verifia==0.1.0) (3.1.6)\n",
      "Requirement already satisfied: markupsafe<4.0,>=2.0 in c:\\users\\houssem\\downloads\\verifia\\.venv\\lib\\site-packages (from gradio->verifia==0.1.0->verifia==0.1.0) (3.0.2)\n",
      "Requirement already satisfied: pillow<12.0,>=8.0 in c:\\users\\houssem\\downloads\\verifia\\.venv\\lib\\site-packages (from gradio->verifia==0.1.0->verifia==0.1.0) (11.2.1)\n",
      "Requirement already satisfied: pydub in c:\\users\\houssem\\downloads\\verifia\\.venv\\lib\\site-packages (from gradio->verifia==0.1.0->verifia==0.1.0) (0.25.1)\n",
      "Requirement already satisfied: python-multipart>=0.0.18 in c:\\users\\houssem\\downloads\\verifia\\.venv\\lib\\site-packages (from gradio->verifia==0.1.0->verifia==0.1.0) (0.0.20)\n",
      "Requirement already satisfied: ruff>=0.9.3 in c:\\users\\houssem\\downloads\\verifia\\.venv\\lib\\site-packages (from gradio->verifia==0.1.0->verifia==0.1.0) (0.11.10)\n",
      "Requirement already satisfied: safehttpx<0.2.0,>=0.1.6 in c:\\users\\houssem\\downloads\\verifia\\.venv\\lib\\site-packages (from gradio->verifia==0.1.0->verifia==0.1.0) (0.1.6)\n",
      "Requirement already satisfied: semantic-version~=2.0 in c:\\users\\houssem\\downloads\\verifia\\.venv\\lib\\site-packages (from gradio->verifia==0.1.0->verifia==0.1.0) (2.10.0)\n",
      "Requirement already satisfied: tomlkit<0.14.0,>=0.12.0 in c:\\users\\houssem\\downloads\\verifia\\.venv\\lib\\site-packages (from gradio->verifia==0.1.0->verifia==0.1.0) (0.13.2)\n",
      "Requirement already satisfied: decorator in c:\\users\\houssem\\downloads\\verifia\\.venv\\lib\\site-packages (from ipython->verifia==0.1.0->verifia==0.1.0) (5.2.1)\n",
      "Requirement already satisfied: jedi>=0.16 in c:\\users\\houssem\\downloads\\verifia\\.venv\\lib\\site-packages (from ipython->verifia==0.1.0->verifia==0.1.0) (0.19.2)\n",
      "Requirement already satisfied: matplotlib-inline in c:\\users\\houssem\\downloads\\verifia\\.venv\\lib\\site-packages (from ipython->verifia==0.1.0->verifia==0.1.0) (0.1.7)\n",
      "Requirement already satisfied: prompt_toolkit<3.1.0,>=3.0.41 in c:\\users\\houssem\\downloads\\verifia\\.venv\\lib\\site-packages (from ipython->verifia==0.1.0->verifia==0.1.0) (3.0.51)\n",
      "Requirement already satisfied: stack_data in c:\\users\\houssem\\downloads\\verifia\\.venv\\lib\\site-packages (from ipython->verifia==0.1.0->verifia==0.1.0) (0.6.3)\n",
      "Requirement already satisfied: traitlets>=5.13.0 in c:\\users\\houssem\\downloads\\verifia\\.venv\\lib\\site-packages (from ipython->verifia==0.1.0->verifia==0.1.0) (5.14.3)\n",
      "Requirement already satisfied: wcwidth in c:\\users\\houssem\\downloads\\verifia\\.venv\\lib\\site-packages (from prompt_toolkit<3.1.0,>=3.0.41->ipython->verifia==0.1.0->verifia==0.1.0) (0.2.13)\n",
      "Requirement already satisfied: parso<0.9.0,>=0.8.4 in c:\\users\\houssem\\downloads\\verifia\\.venv\\lib\\site-packages (from jedi>=0.16->ipython->verifia==0.1.0->verifia==0.1.0) (0.8.4)\n",
      "Requirement already satisfied: comm>=0.1.3 in c:\\users\\houssem\\downloads\\verifia\\.venv\\lib\\site-packages (from ipywidgets->verifia==0.1.0->verifia==0.1.0) (0.2.2)\n",
      "Requirement already satisfied: widgetsnbextension~=4.0.14 in c:\\users\\houssem\\downloads\\verifia\\.venv\\lib\\site-packages (from ipywidgets->verifia==0.1.0->verifia==0.1.0) (4.0.14)\n",
      "Requirement already satisfied: jupyterlab_widgets~=3.0.15 in c:\\users\\houssem\\downloads\\verifia\\.venv\\lib\\site-packages (from ipywidgets->verifia==0.1.0->verifia==0.1.0) (3.0.15)\n",
      "Requirement already satisfied: langchain-core<1.0.0,>=0.3.58 in c:\\users\\houssem\\downloads\\verifia\\.venv\\lib\\site-packages (from langchain->verifia==0.1.0->verifia==0.1.0) (0.3.60)\n",
      "Requirement already satisfied: langchain-text-splitters<1.0.0,>=0.3.8 in c:\\users\\houssem\\downloads\\verifia\\.venv\\lib\\site-packages (from langchain->verifia==0.1.0->verifia==0.1.0) (0.3.8)\n",
      "Requirement already satisfied: langsmith<0.4,>=0.1.17 in c:\\users\\houssem\\downloads\\verifia\\.venv\\lib\\site-packages (from langchain->verifia==0.1.0->verifia==0.1.0) (0.3.42)\n",
      "Requirement already satisfied: SQLAlchemy<3,>=1.4 in c:\\users\\houssem\\downloads\\verifia\\.venv\\lib\\site-packages (from langchain->verifia==0.1.0->verifia==0.1.0) (2.0.41)\n",
      "Requirement already satisfied: async-timeout<5.0.0,>=4.0.0 in c:\\users\\houssem\\downloads\\verifia\\.venv\\lib\\site-packages (from langchain->verifia==0.1.0->verifia==0.1.0) (4.0.3)\n",
      "Requirement already satisfied: jsonpatch<2.0,>=1.33 in c:\\users\\houssem\\downloads\\verifia\\.venv\\lib\\site-packages (from langchain-core<1.0.0,>=0.3.58->langchain->verifia==0.1.0->verifia==0.1.0) (1.33)\n",
      "Requirement already satisfied: jsonpointer>=1.9 in c:\\users\\houssem\\downloads\\verifia\\.venv\\lib\\site-packages (from jsonpatch<2.0,>=1.33->langchain-core<1.0.0,>=0.3.58->langchain->verifia==0.1.0->verifia==0.1.0) (3.0.0)\n",
      "Requirement already satisfied: requests-toolbelt<2.0.0,>=1.0.0 in c:\\users\\houssem\\downloads\\verifia\\.venv\\lib\\site-packages (from langsmith<0.4,>=0.1.17->langchain->verifia==0.1.0->verifia==0.1.0) (1.0.0)\n",
      "Requirement already satisfied: zstandard<0.24.0,>=0.23.0 in c:\\users\\houssem\\downloads\\verifia\\.venv\\lib\\site-packages (from langsmith<0.4,>=0.1.17->langchain->verifia==0.1.0->verifia==0.1.0) (0.23.0)\n",
      "Requirement already satisfied: greenlet>=1 in c:\\users\\houssem\\downloads\\verifia\\.venv\\lib\\site-packages (from SQLAlchemy<3,>=1.4->langchain->verifia==0.1.0->verifia==0.1.0) (3.2.2)\n",
      "Requirement already satisfied: aiohttp<4.0.0,>=3.8.3 in c:\\users\\houssem\\downloads\\verifia\\.venv\\lib\\site-packages (from langchain_community->verifia==0.1.0->verifia==0.1.0) (3.11.18)\n",
      "Requirement already satisfied: dataclasses-json<0.7,>=0.5.7 in c:\\users\\houssem\\downloads\\verifia\\.venv\\lib\\site-packages (from langchain_community->verifia==0.1.0->verifia==0.1.0) (0.6.7)\n",
      "Requirement already satisfied: pydantic-settings<3.0.0,>=2.4.0 in c:\\users\\houssem\\downloads\\verifia\\.venv\\lib\\site-packages (from langchain_community->verifia==0.1.0->verifia==0.1.0) (2.9.1)\n",
      "Requirement already satisfied: httpx-sse<1.0.0,>=0.4.0 in c:\\users\\houssem\\downloads\\verifia\\.venv\\lib\\site-packages (from langchain_community->verifia==0.1.0->verifia==0.1.0) (0.4.0)\n",
      "Requirement already satisfied: aiohappyeyeballs>=2.3.0 in c:\\users\\houssem\\downloads\\verifia\\.venv\\lib\\site-packages (from aiohttp<4.0.0,>=3.8.3->langchain_community->verifia==0.1.0->verifia==0.1.0) (2.6.1)\n",
      "Requirement already satisfied: aiosignal>=1.1.2 in c:\\users\\houssem\\downloads\\verifia\\.venv\\lib\\site-packages (from aiohttp<4.0.0,>=3.8.3->langchain_community->verifia==0.1.0->verifia==0.1.0) (1.3.2)\n",
      "Requirement already satisfied: frozenlist>=1.1.1 in c:\\users\\houssem\\downloads\\verifia\\.venv\\lib\\site-packages (from aiohttp<4.0.0,>=3.8.3->langchain_community->verifia==0.1.0->verifia==0.1.0) (1.6.0)\n",
      "Requirement already satisfied: multidict<7.0,>=4.5 in c:\\users\\houssem\\downloads\\verifia\\.venv\\lib\\site-packages (from aiohttp<4.0.0,>=3.8.3->langchain_community->verifia==0.1.0->verifia==0.1.0) (6.4.3)\n",
      "Requirement already satisfied: propcache>=0.2.0 in c:\\users\\houssem\\downloads\\verifia\\.venv\\lib\\site-packages (from aiohttp<4.0.0,>=3.8.3->langchain_community->verifia==0.1.0->verifia==0.1.0) (0.3.1)\n",
      "Requirement already satisfied: yarl<2.0,>=1.17.0 in c:\\users\\houssem\\downloads\\verifia\\.venv\\lib\\site-packages (from aiohttp<4.0.0,>=3.8.3->langchain_community->verifia==0.1.0->verifia==0.1.0) (1.20.0)\n",
      "Requirement already satisfied: marshmallow<4.0.0,>=3.18.0 in c:\\users\\houssem\\downloads\\verifia\\.venv\\lib\\site-packages (from dataclasses-json<0.7,>=0.5.7->langchain_community->verifia==0.1.0->verifia==0.1.0) (3.26.1)\n",
      "Requirement already satisfied: typing-inspect<1,>=0.4.0 in c:\\users\\houssem\\downloads\\verifia\\.venv\\lib\\site-packages (from dataclasses-json<0.7,>=0.5.7->langchain_community->verifia==0.1.0->verifia==0.1.0) (0.9.0)\n",
      "Requirement already satisfied: mypy-extensions>=0.3.0 in c:\\users\\houssem\\downloads\\verifia\\.venv\\lib\\site-packages (from typing-inspect<1,>=0.4.0->dataclasses-json<0.7,>=0.5.7->langchain_community->verifia==0.1.0->verifia==0.1.0) (1.1.0)\n",
      "Requirement already satisfied: openai<2.0.0,>=1.68.2 in c:\\users\\houssem\\downloads\\verifia\\.venv\\lib\\site-packages (from langchain_openai->verifia==0.1.0->verifia==0.1.0) (1.79.0)\n",
      "Requirement already satisfied: tiktoken<1,>=0.7 in c:\\users\\houssem\\downloads\\verifia\\.venv\\lib\\site-packages (from langchain_openai->verifia==0.1.0->verifia==0.1.0) (0.9.0)\n",
      "Requirement already satisfied: jiter<1,>=0.4.0 in c:\\users\\houssem\\downloads\\verifia\\.venv\\lib\\site-packages (from openai<2.0.0,>=1.68.2->langchain_openai->verifia==0.1.0->verifia==0.1.0) (0.9.1)\n",
      "Requirement already satisfied: regex>=2022.1.18 in c:\\users\\houssem\\downloads\\verifia\\.venv\\lib\\site-packages (from tiktoken<1,>=0.7->langchain_openai->verifia==0.1.0->verifia==0.1.0) (2024.11.6)\n",
      "Requirement already satisfied: langgraph-checkpoint<3.0.0,>=2.0.26 in c:\\users\\houssem\\downloads\\verifia\\.venv\\lib\\site-packages (from langgraph->verifia==0.1.0->verifia==0.1.0) (2.0.26)\n",
      "Requirement already satisfied: langgraph-prebuilt>=0.1.8 in c:\\users\\houssem\\downloads\\verifia\\.venv\\lib\\site-packages (from langgraph->verifia==0.1.0->verifia==0.1.0) (0.1.8)\n",
      "Requirement already satisfied: langgraph-sdk>=0.1.42 in c:\\users\\houssem\\downloads\\verifia\\.venv\\lib\\site-packages (from langgraph->verifia==0.1.0->verifia==0.1.0) (0.1.69)\n",
      "Requirement already satisfied: xxhash<4.0.0,>=3.5.0 in c:\\users\\houssem\\downloads\\verifia\\.venv\\lib\\site-packages (from langgraph->verifia==0.1.0->verifia==0.1.0) (3.5.0)\n",
      "Requirement already satisfied: ormsgpack<2.0.0,>=1.8.0 in c:\\users\\houssem\\downloads\\verifia\\.venv\\lib\\site-packages (from langgraph-checkpoint<3.0.0,>=2.0.26->langgraph->verifia==0.1.0->verifia==0.1.0) (1.9.1)\n",
      "Requirement already satisfied: contourpy>=1.0.1 in c:\\users\\houssem\\downloads\\verifia\\.venv\\lib\\site-packages (from matplotlib->verifia==0.1.0->verifia==0.1.0) (1.3.2)\n",
      "Requirement already satisfied: cycler>=0.10 in c:\\users\\houssem\\downloads\\verifia\\.venv\\lib\\site-packages (from matplotlib->verifia==0.1.0->verifia==0.1.0) (0.12.1)\n",
      "Requirement already satisfied: fonttools>=4.22.0 in c:\\users\\houssem\\downloads\\verifia\\.venv\\lib\\site-packages (from matplotlib->verifia==0.1.0->verifia==0.1.0) (4.58.0)\n",
      "Requirement already satisfied: kiwisolver>=1.3.1 in c:\\users\\houssem\\downloads\\verifia\\.venv\\lib\\site-packages (from matplotlib->verifia==0.1.0->verifia==0.1.0) (1.4.8)\n",
      "Requirement already satisfied: pyparsing>=2.3.1 in c:\\users\\houssem\\downloads\\verifia\\.venv\\lib\\site-packages (from matplotlib->verifia==0.1.0->verifia==0.1.0) (3.2.3)\n",
      "Requirement already satisfied: narwhals>=1.15.1 in c:\\users\\houssem\\downloads\\verifia\\.venv\\lib\\site-packages (from plotly->verifia==0.1.0->verifia==0.1.0) (1.39.1)\n",
      "Requirement already satisfied: fastcore>=1.8.1 in c:\\users\\houssem\\downloads\\verifia\\.venv\\lib\\site-packages (from python-fasthtml->verifia==0.1.0->verifia==0.1.0) (1.8.2)\n",
      "Requirement already satisfied: itsdangerous in c:\\users\\houssem\\downloads\\verifia\\.venv\\lib\\site-packages (from python-fasthtml->verifia==0.1.0->verifia==0.1.0) (2.2.0)\n",
      "Requirement already satisfied: fastlite>=0.1.1 in c:\\users\\houssem\\downloads\\verifia\\.venv\\lib\\site-packages (from python-fasthtml->verifia==0.1.0->verifia==0.1.0) (0.1.3)\n",
      "Requirement already satisfied: beautifulsoup4 in c:\\users\\houssem\\downloads\\verifia\\.venv\\lib\\site-packages (from python-fasthtml->verifia==0.1.0->verifia==0.1.0) (4.13.4)\n",
      "Requirement already satisfied: apswutils>=0.0.2 in c:\\users\\houssem\\downloads\\verifia\\.venv\\lib\\site-packages (from fastlite>=0.1.1->python-fasthtml->verifia==0.1.0->verifia==0.1.0) (0.0.2)\n",
      "Requirement already satisfied: apsw in c:\\users\\houssem\\downloads\\verifia\\.venv\\lib\\site-packages (from apswutils>=0.0.2->fastlite>=0.1.1->python-fasthtml->verifia==0.1.0->verifia==0.1.0) (3.49.2.0)\n",
      "Requirement already satisfied: soupsieve>1.2 in c:\\users\\houssem\\downloads\\verifia\\.venv\\lib\\site-packages (from beautifulsoup4->python-fasthtml->verifia==0.1.0->verifia==0.1.0) (2.7)\n",
      "Requirement already satisfied: pyaml>=16.9 in c:\\users\\houssem\\downloads\\verifia\\.venv\\lib\\site-packages (from scikit-optimize->verifia==0.1.0->verifia==0.1.0) (25.1.0)\n",
      "Requirement already satisfied: executing>=1.2.0 in c:\\users\\houssem\\downloads\\verifia\\.venv\\lib\\site-packages (from stack_data->ipython->verifia==0.1.0->verifia==0.1.0) (2.2.0)\n",
      "Requirement already satisfied: asttokens>=2.1.0 in c:\\users\\houssem\\downloads\\verifia\\.venv\\lib\\site-packages (from stack_data->ipython->verifia==0.1.0->verifia==0.1.0) (3.0.0)\n",
      "Requirement already satisfied: pure-eval in c:\\users\\houssem\\downloads\\verifia\\.venv\\lib\\site-packages (from stack_data->ipython->verifia==0.1.0->verifia==0.1.0) (0.2.3)\n",
      "Requirement already satisfied: mpmath<1.4,>=1.1.0 in c:\\users\\houssem\\downloads\\verifia\\.venv\\lib\\site-packages (from sympy->onnxruntime>=1.14.1->chromadb->verifia==0.1.0->verifia==0.1.0) (1.3.0)\n",
      "Requirement already satisfied: absl-py>=1.0.0 in c:\\users\\houssem\\downloads\\verifia\\.venv\\lib\\site-packages (from tensorflow->verifia==0.1.0->verifia==0.1.0) (2.2.2)\n",
      "Requirement already satisfied: astunparse>=1.6.0 in c:\\users\\houssem\\downloads\\verifia\\.venv\\lib\\site-packages (from tensorflow->verifia==0.1.0->verifia==0.1.0) (1.6.3)\n",
      "Requirement already satisfied: gast!=0.5.0,!=0.5.1,!=0.5.2,>=0.2.1 in c:\\users\\houssem\\downloads\\verifia\\.venv\\lib\\site-packages (from tensorflow->verifia==0.1.0->verifia==0.1.0) (0.6.0)\n",
      "Requirement already satisfied: google-pasta>=0.1.1 in c:\\users\\houssem\\downloads\\verifia\\.venv\\lib\\site-packages (from tensorflow->verifia==0.1.0->verifia==0.1.0) (0.2.0)\n",
      "Requirement already satisfied: libclang>=13.0.0 in c:\\users\\houssem\\downloads\\verifia\\.venv\\lib\\site-packages (from tensorflow->verifia==0.1.0->verifia==0.1.0) (18.1.1)\n",
      "Requirement already satisfied: opt-einsum>=2.3.2 in c:\\users\\houssem\\downloads\\verifia\\.venv\\lib\\site-packages (from tensorflow->verifia==0.1.0->verifia==0.1.0) (3.4.0)\n",
      "Requirement already satisfied: termcolor>=1.1.0 in c:\\users\\houssem\\downloads\\verifia\\.venv\\lib\\site-packages (from tensorflow->verifia==0.1.0->verifia==0.1.0) (3.1.0)\n",
      "Requirement already satisfied: tensorboard~=2.19.0 in c:\\users\\houssem\\downloads\\verifia\\.venv\\lib\\site-packages (from tensorflow->verifia==0.1.0->verifia==0.1.0) (2.19.0)\n",
      "Requirement already satisfied: keras>=3.5.0 in c:\\users\\houssem\\downloads\\verifia\\.venv\\lib\\site-packages (from tensorflow->verifia==0.1.0->verifia==0.1.0) (3.9.2)\n",
      "Requirement already satisfied: h5py>=3.11.0 in c:\\users\\houssem\\downloads\\verifia\\.venv\\lib\\site-packages (from tensorflow->verifia==0.1.0->verifia==0.1.0) (3.13.0)\n",
      "Requirement already satisfied: ml-dtypes<1.0.0,>=0.5.1 in c:\\users\\houssem\\downloads\\verifia\\.venv\\lib\\site-packages (from tensorflow->verifia==0.1.0->verifia==0.1.0) (0.5.1)\n",
      "Requirement already satisfied: tensorflow-io-gcs-filesystem>=0.23.1 in c:\\users\\houssem\\downloads\\verifia\\.venv\\lib\\site-packages (from tensorflow->verifia==0.1.0->verifia==0.1.0) (0.31.0)\n",
      "Requirement already satisfied: markdown>=2.6.8 in c:\\users\\houssem\\downloads\\verifia\\.venv\\lib\\site-packages (from tensorboard~=2.19.0->tensorflow->verifia==0.1.0->verifia==0.1.0) (3.8)\n",
      "Requirement already satisfied: tensorboard-data-server<0.8.0,>=0.7.0 in c:\\users\\houssem\\downloads\\verifia\\.venv\\lib\\site-packages (from tensorboard~=2.19.0->tensorflow->verifia==0.1.0->verifia==0.1.0) (0.7.2)\n",
      "Requirement already satisfied: werkzeug>=1.0.1 in c:\\users\\houssem\\downloads\\verifia\\.venv\\lib\\site-packages (from tensorboard~=2.19.0->tensorflow->verifia==0.1.0->verifia==0.1.0) (3.1.3)\n",
      "Requirement already satisfied: wheel<1.0,>=0.23.0 in c:\\users\\houssem\\downloads\\verifia\\.venv\\lib\\site-packages (from astunparse>=1.6.0->tensorflow->verifia==0.1.0->verifia==0.1.0) (0.45.1)\n",
      "Requirement already satisfied: namex in c:\\users\\houssem\\downloads\\verifia\\.venv\\lib\\site-packages (from keras>=3.5.0->tensorflow->verifia==0.1.0->verifia==0.1.0) (0.0.9)\n",
      "Requirement already satisfied: optree in c:\\users\\houssem\\downloads\\verifia\\.venv\\lib\\site-packages (from keras>=3.5.0->tensorflow->verifia==0.1.0->verifia==0.1.0) (0.15.0)\n",
      "Installing collected packages: verifia\n",
      "  Attempting uninstall: verifia\n",
      "    Found existing installation: verifia 0.1.0\n",
      "    Uninstalling verifia-0.1.0:\n",
      "      Successfully uninstalled verifia-0.1.0\n",
      "Successfully installed verifia-0.1.0\n"
     ]
    }
   ],
   "source": [
    "!pip install requests\n",
    "!pip install scikit-optimize\n",
    "!pip install \"../../dist/verifia-0.1.0-py3-none-any.whl[tensorflow,genflow]\""
   ]
  },
  {
   "cell_type": "markdown",
   "metadata": {},
   "source": [
    "#### 0. Download Resources\n",
    "\n",
    "Before running any other cells, make sure you have all required resources:"
   ]
  },
  {
   "cell_type": "code",
   "execution_count": 18,
   "metadata": {},
   "outputs": [],
   "source": [
    "!curl -sL https://tinyurl.com/r6m2zk87 -o downloader.py\n",
    "!curl -sL https://tinyurl.com/4p9yxa5u -o tf_helpers.py"
   ]
  },
  {
   "cell_type": "code",
   "execution_count": 19,
   "metadata": {},
   "outputs": [
    {
     "data": {
      "text/plain": [
       "{'extracted': True,\n",
       " 'files': ['articles/',\n",
       "  'articles/Compressive Strength of Concrete and calculation methods.pdf',\n",
       "  'articles/Concrete characteristics according to Eurocode 2.pdf',\n",
       "  'articles/Different Grades of Concrete.pdf',\n",
       "  'articles/Everything You Need to Know.pdf',\n",
       "  'articles/Table of concrete design properties.pdf',\n",
       "  'articles/Understanding MPA in Concrete.pdf',\n",
       "  'data_report.pdf',\n",
       "  'domain_definition_meeting_notes.pdf',\n",
       "  'domain_definition_report.pdf',\n",
       "  'feature_selection_report.pdf',\n",
       "  'sensitivity_analysis_meeting_notes.pdf',\n",
       "  'sensitivity_analysis_report.pdf']}"
      ]
     },
     "execution_count": 19,
     "metadata": {},
     "output_type": "execute_result"
    }
   ],
   "source": [
    "from downloader import download_resource\n",
    "url = 'https://www.verifia.ca/assets/use-cases/'\n",
    "download_resource(url+'data/concrete_compressive_strength.csv', \n",
    "                  dest_dir='../data')\n",
    "download_resource(url+'domains/concrete_compressive_strength.yaml', \n",
    "                  dest_dir='../domains')\n",
    "download_resource(url+'documents/concrete_compressive_strength.zip', \n",
    "                  dest_dir='../documents/concrete_compressive_strength')"
   ]
  },
  {
   "cell_type": "markdown",
   "metadata": {},
   "source": [
    "#### 1. Importing Libraries and Setting Up\n",
    "\n",
    "First, we import necessary libraries for data processing, hyperparameter tuning (skopt), TensorFlow model creation, and VerifIA functionalities such as model wrapping and rule verification."
   ]
  },
  {
   "cell_type": "code",
   "execution_count": null,
   "metadata": {},
   "outputs": [],
   "source": [
    "%load_ext autoreload\n",
    "%autoreload 2\n",
    "import os\n",
    "import getpass\n",
    "import gc\n",
    "import pandas as pd\n",
    "import numpy as np\n",
    "import tensorflow as tf \n",
    "from skopt.callbacks import DeadlineStopper, DeltaYStopper\n",
    "from skopt.space import Categorical, Integer\n",
    "from skopt.utils import use_named_args\n",
    "from skopt import gp_minimize\n",
    "from sklearn.model_selection import BaseCrossValidator, KFold\n",
    "from verifia.models import TFModel, build_from_model_card\n",
    "from verifia.verification.results import RulesViolationResult\n",
    "from verifia.context.data import Dataset\n",
    "from verifia.verification.verifiers import RuleConsistencyVerifier\n",
    "from tf_helpers import df_to_dataset, preprocessing_layer, create_model_to_tune"
   ]
  },
  {
   "cell_type": "markdown",
   "metadata": {},
   "source": [
    "#### 2. Defining Constants and Loading the Data\n",
    "\n",
    "We define constants (e.g., random seed, directory paths) and load the compressive strength dataset from a CSV file. The dataset contains measurements along with the target variable *concrete_compressive_strength*. Feature names are inferred from the dataset (excluding the target)."
   ]
  },
  {
   "cell_type": "code",
   "execution_count": 22,
   "metadata": {},
   "outputs": [],
   "source": [
    "RAND_SEED = 0\n",
    "MODELS_DIRPATH = \"../models\"\n",
    "DATA_PATH = \"../data/concrete_compressive_strength.csv\"\n",
    "dataframe = pd.read_csv(DATA_PATH)\n",
    "target_name = \"concrete_compressive_strength\"\n",
    "feature_names = set(dataframe.columns) - {target_name}"
   ]
  },
  {
   "cell_type": "markdown",
   "metadata": {},
   "source": [
    "#### 3. Building the TensorFlow Model Wrapper\n",
    "\n",
    "Using VerifIA’s `build_from_model_card`, we create a `TFModel` wrapper. This wrapper stores essential metadata (model name, version, type, feature names, target name, and storage directory) that VerifIA requires for later verification tasks. Although the model itself is yet to be built or tuned, this wrapper acts as a container for the final model."
   ]
  },
  {
   "cell_type": "code",
   "execution_count": 23,
   "metadata": {},
   "outputs": [],
   "source": [
    "model_wrapper:TFModel = build_from_model_card({\n",
    "    \"name\": \"concrete_compressive_strength\",\n",
    "    \"version\": \"2\",\n",
    "    \"type\": \"regression\",\n",
    "    \"description\": \"model predicts the compressive strength of concretes\",\n",
    "    \"framework\": \"tensorflow\",\n",
    "    \"feature_names\": feature_names,\n",
    "    \"target_name\": target_name,\n",
    "    \"local_dirpath\": MODELS_DIRPATH\n",
    "})"
   ]
  },
  {
   "cell_type": "markdown",
   "metadata": {},
   "source": [
    "#### 4. Preparing the Dataset\n",
    "\n",
    "We convert the loaded DataFrame into a VerifIA `Dataset` object. This object facilitates operations such as splitting the data into training and testing subsets. The training set will be used for hyperparameter tuning and model training, while the test set is reserved for final evaluation and rule verification."
   ]
  },
  {
   "cell_type": "code",
   "execution_count": 24,
   "metadata": {},
   "outputs": [],
   "source": [
    "dataset = Dataset(dataframe, model_wrapper.target_name, \n",
    "                  model_wrapper.feature_names, \n",
    "                  model_wrapper.cat_feature_names)\n",
    "train_dataset, test_dataset = dataset.split(0.8, RAND_SEED)"
   ]
  },
  {
   "cell_type": "markdown",
   "metadata": {},
   "source": [
    "#### 5. Hyperparameter Tuning via Cross-Validation\n",
    "\n",
    "A custom objective function is defined to tune our TensorFlow model. This function:\n",
    "- Uses a KFold cross-validation scheme on the training data.\n",
    "- Constructs training and validation datasets from the DataFrame.\n",
    "- Builds the model (with parameters passed from the hyperparameter space) using helper functions for preprocessing and model creation.\n",
    "- Trains the model with early stopping and collects the validation score.\n",
    "  \n",
    "The objective function is then optimized using `gp_minimize` from skopt over a defined search space (covering the number of layers, neurons per layer, activation function, dropout, learning rate, batch size, etc.). Callback functions (for progress updates, early termination, and time limits) are also set up."
   ]
  },
  {
   "cell_type": "code",
   "execution_count": 25,
   "metadata": {},
   "outputs": [],
   "source": [
    "def make_objective(train_dataset:Dataset, cv:BaseCrossValidator, space, scoring):\n",
    "    \n",
    "    @use_named_args(space) \n",
    "    def objective(**params):\n",
    "        curr_bs = int(params['batch_size'])\n",
    "        num_feature_names = train_dataset.num_feature_names\n",
    "        cat_feature_names = train_dataset.cat_feature_names\n",
    "        X = train_dataset.feature_data()\n",
    "        y = train_dataset.target_data\n",
    "        validation_scores = list()\n",
    "        for train_index, val_index in cv.split(X):\n",
    "            train_ds = df_to_dataset(X.iloc[train_index,:], y.iloc[train_index], batch_size=curr_bs)\n",
    "            val_ds = df_to_dataset(X.iloc[val_index,:], y.iloc[val_index], shuffle=False, batch_size=curr_bs)\n",
    "            all_inputs, encoded_features = preprocessing_layer(num_feature_names, cat_feature_names, train_ds)\n",
    "            tf_model = create_model_to_tune(all_inputs, encoded_features, scoring,\n",
    "                                            train_dataset.target_data.mean(), \n",
    "                                            train_dataset.target_data.std(), \n",
    "                                            **params)\n",
    "\n",
    "            early_stopping = tf.keras.callbacks.EarlyStopping(monitor=f'val_{scoring}', \n",
    "                                                                mode='min', \n",
    "                                                                patience=15, \n",
    "                                                                verbose=0)\n",
    "                    \n",
    "            run = tf_model.fit(train_ds, validation_data=val_ds, verbose=0,\n",
    "                                callbacks=[early_stopping], \n",
    "                                epochs=1000) \n",
    "                    \n",
    "            validation_scores.append(np.min(run.history[f\"val_{scoring}\"]))\n",
    "\n",
    "        return np.mean(validation_scores)\n",
    "\n",
    "    return objective"
   ]
  },
  {
   "cell_type": "code",
   "execution_count": 26,
   "metadata": {},
   "outputs": [],
   "source": [
    "counter = 1\n",
    "def onstep(res):\n",
    "    global counter\n",
    "    x0 = res.x_iters   # List of input points\n",
    "    y0 = res.func_vals # Evaluation of input points\n",
    "    print(f'Last eval #{counter}: {x0[-1]}', \n",
    "          f' - Score {y0[-1]:.3f}')\n",
    "    print(f' - Best Score {res.fun:.3f}',\n",
    "          f' - Best Args: {res.x}')\n",
    "    counter += 1\n",
    "\n",
    "overdone_control = DeltaYStopper(delta=0.0001)               # We stop if the gain of the optimization becomes too small\n",
    "time_limit_control = DeadlineStopper(total_time=60 * 45)     # We impose a time limit (45 minutes)\n",
    "\n",
    "callbacks=[overdone_control, time_limit_control, onstep]"
   ]
  },
  {
   "cell_type": "code",
   "execution_count": 27,
   "metadata": {},
   "outputs": [
    {
     "name": "stdout",
     "output_type": "stream",
     "text": [
      "WARNING:tensorflow:From c:\\Users\\Houssem\\Downloads\\verifia\\.venv\\lib\\site-packages\\keras\\src\\backend\\tensorflow\\core.py:219: The name tf.placeholder is deprecated. Please use tf.compat.v1.placeholder instead.\n",
      "\n",
      "Last eval #1: [4, 512, 256, 128, 32, 16, 'leaky_relu', 0.0, True, 0.003, 452]  - Score 10.171\n",
      " - Best Score 10.171  - Best Args: [4, 512, 256, 128, 32, 16, 'leaky_relu', 0.0, True, 0.003, 452]\n",
      "Last eval #2: [3, 256, 256, 64, 32, 16, 'relu', 0.15, False, 0.003, 452]  - Score 3.717\n",
      " - Best Score 3.717  - Best Args: [3, 256, 256, 64, 32, 16, 'relu', 0.15, False, 0.003, 452]\n",
      "Last eval #3: [4, 512, 256, 64, 32, 32, 'leaky_relu', 0.25, True, 0.001, 128]  - Score 5.462\n",
      " - Best Score 3.717  - Best Args: [3, 256, 256, 64, 32, 16, 'relu', 0.15, False, 0.003, 452]\n",
      "Last eval #4: [2, 128, 64, 32, 32, 32, 'leaky_relu', 0.35, False, 0.03, 512]  - Score 4.520\n",
      " - Best Score 3.717  - Best Args: [3, 256, 256, 64, 32, 16, 'relu', 0.15, False, 0.003, 452]\n",
      "Last eval #5: [4, 128, 128, 128, 32, 8, 'leaky_relu', 0.35, False, 0.001, 256]  - Score 5.154\n",
      " - Best Score 3.717  - Best Args: [3, 256, 256, 64, 32, 16, 'relu', 0.15, False, 0.003, 452]\n",
      "Last eval #6: [5, 256, 128, 64, 32, 16, 'relu', 0.2, False, 0.0003, 256]  - Score 5.096\n",
      " - Best Score 3.717  - Best Args: [3, 256, 256, 64, 32, 16, 'relu', 0.15, False, 0.003, 452]\n",
      "Last eval #7: [2, 256, 256, 128, 64, 16, 'leaky_relu', 0.25, True, 0.003, 512]  - Score 9.604\n",
      " - Best Score 3.717  - Best Args: [3, 256, 256, 64, 32, 16, 'relu', 0.15, False, 0.003, 452]\n",
      "Last eval #8: [3, 256, 256, 128, 64, 8, 'relu', 0.45, False, 0.0003, 512]  - Score 6.007\n",
      " - Best Score 3.717  - Best Args: [3, 256, 256, 64, 32, 16, 'relu', 0.15, False, 0.003, 452]\n",
      "Last eval #9: [2, 128, 64, 128, 32, 32, 'leaky_relu', 0.2, False, 0.03, 196]  - Score 4.235\n",
      " - Best Score 3.717  - Best Args: [3, 256, 256, 64, 32, 16, 'relu', 0.15, False, 0.003, 452]\n",
      "Last eval #10: [2, 256, 256, 32, 32, 32, 'leaky_relu', 0.45, False, 0.0003, 452]  - Score 5.161\n",
      " - Best Score 3.717  - Best Args: [3, 256, 256, 64, 32, 16, 'relu', 0.15, False, 0.003, 452]\n",
      "Best score: 3.717, Best hyperparameters: {'n_layers': 3, 'layer_1': 256, 'layer_2': 256, 'layer_3': 64, 'layer_4': 32, 'layer_5': 16, 'activation': 'relu', 'dropout': 0.15, 'batch_normalization': False, 'learning_rate': 0.003, 'batch_size': 452}\n"
     ]
    },
    {
     "data": {
      "text/plain": [
       "29349"
      ]
     },
     "execution_count": 27,
     "metadata": {},
     "output_type": "execute_result"
    }
   ],
   "source": [
    "cv_splits_count, max_trials, n_hparams_at_trial = 5, 10, 3\n",
    "kf = KFold(n_splits=cv_splits_count, shuffle=True, random_state=RAND_SEED)\n",
    "\n",
    "search_spaces = [\n",
    "    Integer(2, 5, name='n_layers'),\n",
    "    Categorical([128, 256, 512], name='layer_1'),\n",
    "    Categorical([64, 128, 256], name='layer_2'),\n",
    "    Categorical([32, 64, 128], name='layer_3'),\n",
    "    Categorical([16, 32, 64], name='layer_4'),\n",
    "    Categorical([8, 16, 32], name='layer_5'),\n",
    "    Categorical([\"leaky_relu\", \"relu\"], name='activation'),\n",
    "    Categorical([0.0, 0.15, 0.1, 0.2, 0.25, 0.3, 0.35, 0.4, 0.45, 0.5], name='dropout'),\n",
    "    Categorical([True, False], name='batch_normalization'),\n",
    "    Categorical([0.03, 0.01, 0.003, 0.001, 3e-4], name='learning_rate'),\n",
    "    Categorical([64, 128, 196, 256, 452, 512], name='batch_size')\n",
    "]\n",
    "objective = make_objective(train_dataset,\n",
    "                           cv=kf,\n",
    "                           space=search_spaces,                           \n",
    "                           scoring=\"mean_absolute_error\")\n",
    "\n",
    "gp_round = gp_minimize(func=objective,\n",
    "                       dimensions=search_spaces,\n",
    "                       n_calls=max_trials,\n",
    "                       n_points=n_hparams_at_trial,\n",
    "                       callback=callbacks,\n",
    "                       random_state=RAND_SEED)\n",
    "\n",
    "best_params = {sp.name:x for sp, x in zip(gp_round.space, gp_round.x)}\n",
    "print(f\"Best score: {gp_round.fun:.3f}, Best hyperparameters: {best_params}\")\n",
    "gc.collect()"
   ]
  },
  {
   "cell_type": "markdown",
   "metadata": {},
   "source": [
    "#### 6. Selecting the Best Hyperparameters and Determining Training Epochs\n",
    "\n",
    "After optimization, the best hyperparameters are extracted. Then, using cross-validation, we determine an optimal number of training epochs (by computing the median of the epoch counts where the validation loss was minimized across folds). This ensures that the final model is trained for an appropriate duration without overfitting."
   ]
  },
  {
   "cell_type": "code",
   "execution_count": 28,
   "metadata": {},
   "outputs": [
    {
     "data": {
      "text/plain": [
       "15628"
      ]
     },
     "execution_count": 28,
     "metadata": {},
     "output_type": "execute_result"
    }
   ],
   "source": [
    "X = train_dataset.feature_data()\n",
    "y = train_dataset.target_data\n",
    "num_feature_names = train_dataset.num_feature_names\n",
    "cat_feature_names = train_dataset.cat_feature_names\n",
    "scoring = \"mean_absolute_error\"\n",
    "best_batch_size = int(best_params['batch_size'])\n",
    "train_ds = df_to_dataset(X, y, batch_size=best_batch_size)\n",
    "all_inputs, encoded_features = preprocessing_layer(num_feature_names, cat_feature_names, train_ds)\n",
    "list_epochs = list()\n",
    "for train_index, val_index in kf.split(X):\n",
    "    train_ds = df_to_dataset(X.iloc[train_index,:], y.iloc[train_index], batch_size=best_batch_size)\n",
    "    val_ds = df_to_dataset(X.iloc[val_index,:], y.iloc[val_index], shuffle=False, batch_size=best_batch_size)\n",
    "    tf_model = create_model_to_tune(all_inputs, encoded_features, scoring,\n",
    "                                train_dataset.target_data.mean(), \n",
    "                                train_dataset.target_data.std(), \n",
    "                                **best_params)\n",
    "    early_stopping = tf.keras.callbacks.EarlyStopping(monitor=f'val_{scoring}', \n",
    "                                                        mode='min', \n",
    "                                                        patience=15, \n",
    "                                                        verbose=0)\n",
    "    run = tf_model.fit(train_ds, validation_data=val_ds, verbose=0,\n",
    "                callbacks=[early_stopping], \n",
    "                epochs=1000) \n",
    "    list_epochs.append(np.argmin(run.history[f'val_{scoring}']) + 1)\n",
    "best_epochs = int(np.median(list_epochs))\n",
    "gc.collect()"
   ]
  },
  {
   "cell_type": "markdown",
   "metadata": {},
   "source": [
    "#### 7. Final Model Training and Evaluation\n",
    "\n",
    "With the best hyperparameters and the optimal number of epochs determined, we train the final TensorFlow model on the training data. The trained model is assigned back to the model wrapper. We then evaluate the model’s performance on the test dataset using metrics (for example, mean absolute error), which provides a quantitative measure of its predictive power."
   ]
  },
  {
   "cell_type": "code",
   "execution_count": 29,
   "metadata": {},
   "outputs": [
    {
     "name": "stdout",
     "output_type": "stream",
     "text": [
      "Test Performance Metric : RMSE=5.563825974279319\n"
     ]
    }
   ],
   "source": [
    "tf_model = create_model_to_tune(all_inputs, encoded_features, scoring,\n",
    "                                train_dataset.target_data.mean(), \n",
    "                                train_dataset.target_data.std(), \n",
    "                                **best_params)\n",
    "tf_model.fit(train_ds, validation_data=val_ds, verbose=0,\n",
    "                callbacks=[early_stopping], \n",
    "                epochs=best_epochs) \n",
    "model_wrapper.model = tf_model\n",
    "metric_name, metric_score = model_wrapper.calculate_predictive_performance(test_dataset)\n",
    "print(f\"Test Performance Metric : {metric_name}={metric_score}\")"
   ]
  },
  {
   "cell_type": "markdown",
   "metadata": {},
   "source": [
    "\n",
    "#### 8. Generating the Domain Configuration\n",
    "\n",
    "VerifIA provides two options for generating the domain configuration for your use case:\n"
   ]
  },
  {
   "cell_type": "markdown",
   "metadata": {},
   "source": [
    "##### **Option A – Using a Predefined Domain YAML File**  \n",
    "If you already have a domain configuration YAML file prepared for your use case, simply create a `RuleConsistencyVerifier` object using that file. "
   ]
  },
  {
   "cell_type": "code",
   "execution_count": 31,
   "metadata": {},
   "outputs": [],
   "source": [
    "DOMAIN_PATH = f\"../domains/concrete_compressive_strength.yaml\"\n",
    "model_verifier = RuleConsistencyVerifier(DOMAIN_PATH)"
   ]
  },
  {
   "cell_type": "markdown",
   "metadata": {},
   "source": [
    "##### **Option B – Generating the Domain Configuration Using AI**  \n",
    "Alternatively, you can automatically generate the domain configuration by leveraging VerifIA’s AI-powered `DomainGenFlow`. In this option, you provide your training data and a directory containing PDF documents with external domain knowledge. The tool then generates a rich domain dictionary that captures expected variable ranges, constraints, and rule relationships. "
   ]
  },
  {
   "cell_type": "markdown",
   "metadata": {},
   "source": [
    "**Setup OpenAI and LangSmith Keys**\n",
    "\n",
    "Note that LangSmith is not needed, but it is helpful. If you do want to use LangSmith, after you sign up at the link above, make sure to set your environment variables to start logging traces.\n",
    "\n",
    "Accessing the OpenAI API requires an API key, which you can get by creating an account. Once you have a key you'll want to set it as an environment variable by running:"
   ]
  },
  {
   "cell_type": "code",
   "execution_count": null,
   "metadata": {},
   "outputs": [],
   "source": [
    "os.environ[\"LANGCHAIN_TRACING_V2\"] = 'true'\n",
    "os.environ[\"LANGCHAIN_ENDPOINT\"] = 'https://api.smith.langchain.com'\n",
    "os.environ[\"LANGCHAIN_API_KEY\"] = getpass.getpass(prompt='Your LANGCHAIN_API_KEY? ')\n",
    "os.environ[\"OPENAI_API_KEY\"] = getpass.getpass(prompt='Your OPENAI_API_KEY? ')\n",
    "os.environ[\"USER_AGENT\"] = 'my_agent'\n",
    "os.environ[\"LANGCHAIN_PROJECT\"] = 'VERIFIA_TEST'\n",
    "os.environ[\"VERIFIA_GPT_NAME\"] = 'gpt-4.1'"
   ]
  },
  {
   "cell_type": "code",
   "execution_count": null,
   "metadata": {},
   "outputs": [],
   "source": [
    "from verifia.generation import DomainGenFlow\n",
    "\n",
    "DOMAIN_PDF_DIRPATH = \"../documents/compressive_strength\"\n",
    "domain_genflow = DomainGenFlow()\n",
    "domain_genflow.load_ctx(dataframe=train_dataset.data, \n",
    "                        pdfs_dirpath=DOMAIN_PDF_DIRPATH,\n",
    "                        model_card=model_wrapper.model_card.to_dict())\n",
    "domain_cfg_dict = domain_genflow.run(save=True, local_path=\"./domain.yaml\")\n",
    "model_verifier = RuleConsistencyVerifier(domain_cfg_dict=domain_cfg_dict)"
   ]
  },
  {
   "cell_type": "markdown",
   "metadata": {},
   "source": [
    "Using the generated domain configuration (or an existing YAML file), we instantiated a `RuleConsistencyVerifier`. This component will use the domain rules and constraints to verify whether the model’s predictions conform to our domain expectations when applied to the test data."
   ]
  },
  {
   "cell_type": "markdown",
   "metadata": {},
   "source": [
    "#### 9. Running the Verification Process\n",
    "\n",
    "The verifier is configured by connecting it with our wrapped model and the test dataset. We then run the verification using a chosen search algorithm (in this case, the Random Sampler \"RS\") with specified parameters (population size, number of iterations, and original seed size). The verification explores the input space to uncover any rule violations."
   ]
  },
  {
   "cell_type": "code",
   "execution_count": 34,
   "metadata": {},
   "outputs": [
    {
     "name": "stderr",
     "output_type": "stream",
     "text": [
      "Processing Original Inputs: 15it [00:04,  3.04it/s]it/s]\n",
      "Processing Original Inputs: 15it [00:05,  2.88it/s]8,  4.95s/it]\n",
      "Processing Original Inputs: 15it [00:05,  2.97it/s]7,  5.11s/it]\n",
      "Processing Original Inputs: 15it [00:04,  3.01it/s]1,  5.09s/it]\n",
      "Processing Original Inputs: 15it [00:04,  3.04it/s]5,  5.05s/it]\n",
      "Processing Original Inputs: 15it [00:04,  3.15it/s]0,  5.01s/it]\n",
      "Processing Original Inputs: 15it [00:04,  3.14it/s]3,  4.93s/it]\n",
      "Processing Original Inputs: 15it [00:05,  2.96it/s]8,  4.88s/it]\n",
      "Processing Original Inputs: 15it [00:04,  3.03it/s]4,  4.94s/it]\n",
      "Processing Original Inputs: 15it [00:04,  3.07it/s]9,  4.95s/it]\n",
      "Processing Original Inputs: 15it [00:05,  2.98it/s]04,  4.93s/it]\n",
      "Processing Original Inputs: 15it [00:05,  2.51it/s]59,  4.96s/it]\n",
      "Processing Original Inputs: 15it [00:05,  2.96it/s]58,  5.28s/it]\n",
      "Processing Original Inputs: 15it [00:05,  2.99it/s]52,  5.22s/it]\n",
      "Processing Original Inputs: 15it [00:04,  3.17it/s]46,  5.16s/it]\n",
      "Processing Original Inputs: 15it [00:04,  3.11it/s]40,  5.03s/it]\n",
      "Processing Original Inputs: 15it [00:04,  3.16it/s]34,  4.97s/it]\n",
      "Processing Original Inputs: 15it [00:04,  3.05it/s]29,  4.91s/it]\n",
      "Processing Original Inputs: 15it [00:04,  3.04it/s]24,  4.91s/it]\n",
      "Processing Original Inputs: 15it [00:04,  3.04it/s]19,  4.92s/it]\n",
      "Processing Original Inputs: 15it [00:04,  3.07it/s]14,  4.93s/it]\n",
      "Processing Original Inputs: 15it [00:04,  3.05it/s]09,  4.92s/it]\n",
      "Processing Original Inputs: 15it [00:04,  3.13it/s]04,  4.92s/it]\n",
      "Processing Rules: 100%|██████████| 23/23 [01:54<00:00,  4.98s/it]\n"
     ]
    }
   ],
   "source": [
    "result:RulesViolationResult = model_verifier.verify(model_wrapper)\\\n",
    "                                            .on(test_dataset.data)\\\n",
    "                                            .using(\"RS\")\\\n",
    "                                            .run(pop_size=4, max_iters=3, orig_seed_size=25)"
   ]
  },
  {
   "cell_type": "markdown",
   "metadata": {},
   "source": [
    "#### 10. Saving Verification Results and Model Artifacts\n",
    "\n",
    "Finally, the verification results are saved as an HTML report for easy sharing and further analysis. Additionally, the final model and its model card are saved, allowing you to archive your model’s configuration and verification status for future reference or reproducibility."
   ]
  },
  {
   "cell_type": "code",
   "execution_count": null,
   "metadata": {},
   "outputs": [],
   "source": [
    "result.save_as_html(\"../reports/concrete_compressive_strength.html\")"
   ]
  },
  {
   "cell_type": "code",
   "execution_count": null,
   "metadata": {},
   "outputs": [],
   "source": [
    "model_wrapper.save_model()\n",
    "model_wrapper.save_model_card(\"../models/concrete_compressive_strength.yaml\")"
   ]
  }
 ],
 "metadata": {
  "kernelspec": {
   "display_name": ".venv",
   "language": "python",
   "name": "python3"
  },
  "language_info": {
   "codemirror_mode": {
    "name": "ipython",
    "version": 3
   },
   "file_extension": ".py",
   "mimetype": "text/x-python",
   "name": "python",
   "nbconvert_exporter": "python",
   "pygments_lexer": "ipython3",
   "version": "3.10.10"
  }
 },
 "nbformat": 4,
 "nbformat_minor": 4
}
